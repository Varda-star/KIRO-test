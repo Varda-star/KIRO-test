{
 "cells": [
  {
   "cell_type": "markdown",
   "metadata": {},
   "source": [
    "Essai Github"
   ]
  },
  {
   "cell_type": "code",
   "execution_count": null,
   "metadata": {},
   "outputs": [],
   "source": [
    "In [5]: from scipy.spatial import Voronoi\n",
    "\n",
    "In [6]: import matplotlib.pyplot as plt\n",
    "\n",
    "In [7]: data_points = [[0,0], [1,4], [2,3], [4,1], [1,1], [2,2], [5,3]]\n",
    "\n",
    "In [10]: vor = Voronoi(data_points)\n",
    "\n",
    "In [11]: from scipy.spatial import voronoi_plot_2d\n",
    "\n",
    "In [12]: voronoi_plot_2d(vor)\n",
    "    ...: plt.show()   # plot the figure\n"
   ]
  }
 ],
 "metadata": {
  "kernelspec": {
   "display_name": "Python 3",
   "language": "python",
   "name": "python3"
  },
  "language_info": {
   "codemirror_mode": {
    "name": "ipython",
    "version": 3
   },
   "file_extension": ".py",
   "mimetype": "text/x-python",
   "name": "python",
   "nbconvert_exporter": "python",
   "pygments_lexer": "ipython3",
   "version": "3.8.5"
  }
 },
 "nbformat": 4,
 "nbformat_minor": 4
}
